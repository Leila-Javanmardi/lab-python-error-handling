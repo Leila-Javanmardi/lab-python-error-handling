{
 "cells": [
  {
   "cell_type": "markdown",
   "id": "25d7736c-ba17-4aff-b6bb-66eba20fbf4e",
   "metadata": {},
   "source": [
    "# Lab | Error Handling"
   ]
  },
  {
   "cell_type": "markdown",
   "id": "bc99b386-7508-47a0-bcdb-d969deaf6c8b",
   "metadata": {},
   "source": [
    "## Exercise: Error Handling for Managing Customer Orders\n",
    "\n",
    "The implementation of your code for managing customer orders assumes that the user will always enter a valid input. \n",
    "\n",
    "For example, we could modify the `initialize_inventory` function to include error handling.\n",
    "   - If the user enters an invalid quantity (e.g., a negative value or a non-numeric value), display an error message and ask them to re-enter the quantity for that product.\n",
    "   - Use a try-except block to handle the error and continue prompting the user until a valid quantity is entered.\n",
    "\n",
    "```python\n",
    "# Step 1: Define the function for initializing the inventory with error handling\n",
    "def initialize_inventory(products):\n",
    "    inventory = {}\n",
    "    for product in products:\n",
    "        valid_quantity = False\n",
    "        while not valid_quantity:\n",
    "            try:\n",
    "                quantity = int(input(f\"Enter the quantity of {product}s available: \"))\n",
    "                if quantity < 0:\n",
    "                    raise ValueError(\"Invalid quantity! Please enter a non-negative value.\")\n",
    "                valid_quantity = True\n",
    "            except ValueError as error:\n",
    "                print(f\"Error: {error}\")\n",
    "        inventory[product] = quantity\n",
    "    return inventory\n",
    "\n",
    "# Or, in another way:\n",
    "\n",
    "def initialize_inventory(products):\n",
    "    inventory = {}\n",
    "    for product in products:\n",
    "        valid_input = False\n",
    "        while not valid_input:\n",
    "            try:\n",
    "                quantity = int(input(f\"Enter the quantity of {product}s available: \"))\n",
    "                if quantity >= 0:\n",
    "                    inventory[product] = quantity\n",
    "                    valid_input = True\n",
    "                else:\n",
    "                    print(\"Quantity cannot be negative. Please enter a valid quantity.\")\n",
    "            except ValueError:\n",
    "                print(\"Invalid input. Please enter a valid quantity.\")\n",
    "    return inventory\n",
    "```\n",
    "\n",
    "Let's enhance your code by implementing error handling to handle invalid inputs.\n",
    "\n",
    "Follow the steps below to complete the exercise:\n",
    "\n",
    "2. Modify the `calculate_total_price` function to include error handling.\n",
    "   - If the user enters an invalid price (e.g., a negative value or a non-numeric value), display an error message and ask them to re-enter the price for that product.\n",
    "   - Use a try-except block to handle the error and continue prompting the user until a valid price is entered.\n",
    "\n",
    "3. Modify the `get_customer_orders` function to include error handling.\n",
    "   - If the user enters an invalid number of orders (e.g., a negative value or a non-numeric value), display an error message and ask them to re-enter the number of orders.\n",
    "   - If the user enters an invalid product name (e.g., a product name that is not in the inventory), or that doesn't have stock available, display an error message and ask them to re-enter the product name. *Hint: you will need to pass inventory as a parameter*\n",
    "   - Use a try-except block to handle the error and continue prompting the user until a valid product name is entered.\n",
    "\n",
    "4. Test your code by running the program and deliberately entering invalid quantities and product names. Make sure the error handling mechanism works as expected.\n"
   ]
  },
  {
   "cell_type": "code",
   "execution_count": 9,
   "id": "49e66330",
   "metadata": {},
   "outputs": [],
   "source": [
    "def initialize_inventory(products: list):\n",
    "    '''\n",
    "    takes products as a parameter for initializing the inventory\n",
    "    returns inventory\n",
    "    \n",
    "    '''\n",
    "    inventory = {}\n",
    "    for element in products:\n",
    "        while True:\n",
    "            try:\n",
    "            \n",
    "                Values = (input(f'please enter the quantity of {element} '))\n",
    "                if Values.isdigit():\n",
    "                    inventory[element] = int(Values)\n",
    "                elif int(Values) < 0:\n",
    "                    raise ValueError (\"Invalid quantity! Please enter a non-negative value.\")                   \n",
    "                break\n",
    "            except ValueError as error:\n",
    "                print (f' {error} occured')\n",
    "                                \n",
    "    return inventory\n"
   ]
  },
  {
   "cell_type": "code",
   "execution_count": 11,
   "id": "c24fb891",
   "metadata": {},
   "outputs": [
    {
     "name": "stdout",
     "output_type": "stream",
     "text": [
      "please enter the quantity of t-shirt -5\n",
      " Invalid quantity! Please enter a non-negative value. occured\n",
      "please enter the quantity of t-shirt 5\n",
      "please enter the quantity of mug 6\n",
      "please enter the quantity of hat t\n",
      " invalid literal for int() with base 10: 't' occured\n",
      "please enter the quantity of hat 8\n",
      "please enter the quantity of book 9\n",
      "please enter the quantity of keychain 10\n"
     ]
    },
    {
     "data": {
      "text/plain": [
       "{'t-shirt': 5, 'mug': 6, 'hat': 8, 'book': 9, 'keychain': 10}"
      ]
     },
     "execution_count": 11,
     "metadata": {},
     "output_type": "execute_result"
    }
   ],
   "source": [
    "initialize_inventory([\"t-shirt\", \"mug\", \"hat\", \"book\", \"keychain\"])"
   ]
  },
  {
   "cell_type": "code",
   "execution_count": 58,
   "id": "19806c3f",
   "metadata": {},
   "outputs": [],
   "source": [
    "def get_customer_orders(inventory):\n",
    "    '''\n",
    "    Getting the order.\n",
    "    '''\n",
    "    while True:\n",
    "        try:\n",
    "            number_of_orders = input('Please enter the number of orders: ')\n",
    "            if not number_of_orders.isdigit() or int(number_of_orders) <= 0:\n",
    "                raise ValueError('Please enter a positive number.')\n",
    "            else:\n",
    "                number_of_orders = int(number_of_orders)\n",
    "                print(f'You would like to order {number_of_orders} items.')\n",
    "                break\n",
    "        except ValueError as er:\n",
    "            print(f'{er} occured, please enter a number')\n",
    "\n",
    "    customer_orders = set()\n",
    "\n",
    "    for i in range(number_of_orders):\n",
    "        while True:\n",
    "            try:\n",
    "                request = input(f'Please enter the name of a product from the following {list(inventory.keys())}: ').strip().lower()\n",
    "                if request not in inventory or inventory[request] <= 0:\n",
    "                    raise ValueError('Invalid product name or out of stock.')\n",
    "                else:\n",
    "                    customer_orders.add(request)\n",
    "                    break\n",
    "            except ValueError as er:\n",
    "                print(f'{er} occured, please enter the name of the product')\n",
    "\n",
    "    print('Thank you for shopping.')\n",
    "    return customer_orders\n"
   ]
  },
  {
   "cell_type": "code",
   "execution_count": 59,
   "id": "685b2ca1",
   "metadata": {},
   "outputs": [
    {
     "name": "stdout",
     "output_type": "stream",
     "text": [
      "Please enter the number of orders: r\n",
      "Please enter a positive number. occured, please enter a number\n",
      "Please enter the number of orders: 4\n",
      "You would like to order 4 items.\n",
      "Please enter the name of a product from the following ['t-shirt', 'mug', 'hat', 'book', 'keychain']: m\n",
      "Invalid product name or out of stock. occured, please enter the name of the product\n",
      "Please enter the name of a product from the following ['t-shirt', 'mug', 'hat', 'book', 'keychain']: mug\n",
      "Please enter the name of a product from the following ['t-shirt', 'mug', 'hat', 'book', 'keychain']: hat\n",
      "Please enter the name of a product from the following ['t-shirt', 'mug', 'hat', 'book', 'keychain']: book\n",
      "Please enter the name of a product from the following ['t-shirt', 'mug', 'hat', 'book', 'keychain']: t-shIRT\n",
      "Thank you for shopping.\n"
     ]
    },
    {
     "data": {
      "text/plain": [
       "{'book', 'hat', 'mug', 't-shirt'}"
      ]
     },
     "execution_count": 59,
     "metadata": {},
     "output_type": "execute_result"
    }
   ],
   "source": [
    "get_customer_orders({'t-shirt': 5, 'mug': 6, 'hat': 8, 'book': 9, 'keychain': 10})"
   ]
  },
  {
   "cell_type": "code",
   "execution_count": 60,
   "id": "30f3cab6",
   "metadata": {},
   "outputs": [],
   "source": [
    "def update_inventory(customer_orders, inventory):\n",
    "    for order in customer_orders:\n",
    "            inventory[order] -= 1\n",
    "            \n",
    "    inventory = {(key,value) for key,value in inventory.items() if inventory[order] !=0}\n",
    "                \n",
    "    return inventory\n"
   ]
  },
  {
   "cell_type": "code",
   "execution_count": 61,
   "id": "30d6c0c8",
   "metadata": {},
   "outputs": [
    {
     "name": "stdout",
     "output_type": "stream",
     "text": [
      "total_unique_products: 3, percentage_unique_products: 60.0\n"
     ]
    }
   ],
   "source": [
    "def calculate_order_statistics(customer_orders, products):\n",
    "    total_unique_products = len(customer_orders)\n",
    "    percentage_unique_products = (total_unique_products / len(products)) * 100\n",
    "    return  total_unique_products, percentage_unique_products\n",
    "\n",
    "calculate_order_statistics({'book', 'hat', 'mug', 't-shirt'},[\"t-shirt\", \"mug\", \"hat\", \"book\", \"keychain\"])\n",
    "\n",
    "def print_order_statistics (order_statistics):\n",
    "    print (f'total_unique_products: {order_statistics[0]}, percentage_unique_products: {order_statistics[1]}')\n",
    "\n",
    "def print_updated_inventory(inventory):\n",
    "    print(f'the updated inventory is {inventory}')\n",
    "    \n",
    "print_order_statistics((3, 60.0))\n"
   ]
  },
  {
   "cell_type": "code",
   "execution_count": 63,
   "id": "a0737b3c",
   "metadata": {},
   "outputs": [
    {
     "name": "stdout",
     "output_type": "stream",
     "text": [
      "{('mug', 6), ('hat', 7), ('book', 8), ('t-shirt', 5), ('keychain', 10)}\n"
     ]
    }
   ],
   "source": [
    "updated_inventory = update_inventory({'book', 'hat', 'mug', 't-shirt'},{'t-shirt': 6, 'mug': 7, 'hat': 8, 'book': 9, 'keychain': 10})\n",
    "print(updated_inventory)"
   ]
  },
  {
   "cell_type": "markdown",
   "id": "50836ff0",
   "metadata": {},
   "source": [
    "Modify the calculate_total_price function to include error handling.\n",
    "If the user enters an invalid price (e.g., a negative value or a non-numeric value), display an error message and ask them to re-enter the price for that product.\n",
    "Use a try-except block to handle the error and continue prompting the user until a valid price is entered."
   ]
  },
  {
   "cell_type": "code",
   "execution_count": 74,
   "id": "05d730e9",
   "metadata": {},
   "outputs": [],
   "source": [
    "def Total_price(products):\n",
    "    while True:\n",
    "        try:\n",
    "            prices = []\n",
    "            for product in products:\n",
    "                price = float(input(f'Please enter the price of the product \"{product}\": '))\n",
    "                if price <= 0:\n",
    "                    raise ValueError('Please enter a positive price.')\n",
    "                prices.append(price)\n",
    "            total = sum(prices)\n",
    "            print(f'Total Price: {total}')\n",
    "            break  # Exit the loop if all inputs are valid\n",
    "        except ValueError as e:\n",
    "            print(f'Error: {e}')\n",
    "            print('Please try again.')\n",
    "            "
   ]
  },
  {
   "cell_type": "code",
   "execution_count": 75,
   "id": "1ab350cf",
   "metadata": {},
   "outputs": [
    {
     "name": "stdout",
     "output_type": "stream",
     "text": [
      "Please enter the price of the product \"t-shirt\": r\n",
      "Error: could not convert string to float: 'r'\n",
      "Please try again.\n",
      "Please enter the price of the product \"t-shirt\": 5\n",
      "Please enter the price of the product \"hat\": -6\n",
      "Error: Please enter a positive price.\n",
      "Please try again.\n",
      "Please enter the price of the product \"t-shirt\": 6\n",
      "Please enter the price of the product \"hat\": -6\n",
      "Error: Please enter a positive price.\n",
      "Please try again.\n",
      "Please enter the price of the product \"t-shirt\": -8\n",
      "Error: Please enter a positive price.\n",
      "Please try again.\n",
      "Please enter the price of the product \"t-shirt\": 0\n",
      "Error: Please enter a positive price.\n",
      "Please try again.\n",
      "Please enter the price of the product \"t-shirt\": t\n",
      "Error: could not convert string to float: 't'\n",
      "Please try again.\n",
      "Please enter the price of the product \"t-shirt\": 6\n",
      "Please enter the price of the product \"hat\": 4\n",
      "Please enter the price of the product \"mug\": 5\n",
      "Please enter the price of the product \"book\": 10\n",
      "Total Price: 25.0\n"
     ]
    }
   ],
   "source": [
    "Total_price({'book', 'hat', 'mug', 't-shirt'})"
   ]
  },
  {
   "cell_type": "code",
   "execution_count": null,
   "id": "35193127",
   "metadata": {},
   "outputs": [],
   "source": []
  }
 ],
 "metadata": {
  "kernelspec": {
   "display_name": "Python 3 (ipykernel)",
   "language": "python",
   "name": "python3"
  },
  "language_info": {
   "codemirror_mode": {
    "name": "ipython",
    "version": 3
   },
   "file_extension": ".py",
   "mimetype": "text/x-python",
   "name": "python",
   "nbconvert_exporter": "python",
   "pygments_lexer": "ipython3",
   "version": "3.11.5"
  }
 },
 "nbformat": 4,
 "nbformat_minor": 5
}
